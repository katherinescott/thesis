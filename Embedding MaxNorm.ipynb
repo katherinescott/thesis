{
 "cells": [
  {
   "cell_type": "code",
   "execution_count": 1,
   "metadata": {},
   "outputs": [],
   "source": [
    "import torch\n",
    "from torch.autograd import Variable\n",
    "import numpy as np"
   ]
  },
  {
   "cell_type": "code",
   "execution_count": 2,
   "metadata": {},
   "outputs": [
    {
     "data": {
      "text/plain": [
       "\n",
       " 0.4016  0.4140  0.5377  0.3251  0.1370  0.1772  0.1816  0.3231  0.4147  0.1893\n",
       " 0.0279  0.0522  0.2313  0.5373  0.3800  0.3957  0.3377  0.0565  0.3314  0.2924\n",
       " 0.5324  0.1062  0.3356  0.0542  0.0585  0.0198  0.3771  0.0930  0.3366  0.5358\n",
       " 0.3988  0.0296  0.0008  0.4602  0.3057  0.0275  0.0404  0.3249  0.1790  0.5372\n",
       " 0.3845  0.1493  0.0676  0.1942  0.0169  0.0333  0.4169  0.3304  0.3913  0.2605\n",
       "[torch.DoubleTensor of size 5x10]"
      ]
     },
     "execution_count": 2,
     "metadata": {},
     "output_type": "execute_result"
    }
   ],
   "source": [
    "e = torch.nn.Embedding(5,10)\n",
    "e.weight.data = torch.from_numpy(np.random.uniform(0, 0.6, size=(5,10)))\n",
    "e.weight.data"
   ]
  },
  {
   "cell_type": "code",
   "execution_count": 3,
   "metadata": {},
   "outputs": [
    {
     "data": {
      "text/plain": [
       "Variable containing:\n",
       " 1.0596\n",
       " 0.9794\n",
       " 0.9825\n",
       " 0.9454\n",
       " 0.8472\n",
       "[torch.DoubleTensor of size 5]"
      ]
     },
     "execution_count": 3,
     "metadata": {},
     "output_type": "execute_result"
    }
   ],
   "source": [
    "norms = torch.norm(e.weight, p=2, dim=1)\n",
    "norms"
   ]
  },
  {
   "cell_type": "code",
   "execution_count": 4,
   "metadata": {},
   "outputs": [
    {
     "data": {
      "text/plain": [
       "array([0])"
      ]
     },
     "execution_count": 4,
     "metadata": {},
     "output_type": "execute_result"
    }
   ],
   "source": [
    "MAX_NORM = 1\n",
    "to_rescale = np.where(norms.data.numpy() > MAX_NORM)[0]\n",
    "to_rescale"
   ]
  },
  {
   "cell_type": "code",
   "execution_count": 5,
   "metadata": {},
   "outputs": [],
   "source": [
    "to_rescale = Variable(torch.from_numpy(to_rescale))"
   ]
  },
  {
   "cell_type": "code",
   "execution_count": 6,
   "metadata": {},
   "outputs": [],
   "source": [
    "norms = torch.norm(e(to_rescale), p=2, dim=1).data\n",
    "scaled = e(to_rescale).div(Variable(norms.view(len(to_rescale),1).expand_as(e(to_rescale)))).data"
   ]
  },
  {
   "cell_type": "code",
   "execution_count": 7,
   "metadata": {},
   "outputs": [],
   "source": [
    "e.weight.data[to_rescale.long().data] = scaled"
   ]
  },
  {
   "cell_type": "code",
   "execution_count": 8,
   "metadata": {},
   "outputs": [
    {
     "data": {
      "text/plain": [
       "Variable containing:\n",
       " 1.0000\n",
       " 0.9794\n",
       " 0.9825\n",
       " 0.9454\n",
       " 0.8472\n",
       "[torch.DoubleTensor of size 5]"
      ]
     },
     "execution_count": 8,
     "metadata": {},
     "output_type": "execute_result"
    }
   ],
   "source": [
    "torch.norm(e.weight, p=2, dim=1)"
   ]
  },
  {
   "cell_type": "code",
   "execution_count": null,
   "metadata": {},
   "outputs": [],
   "source": []
  }
 ],
 "metadata": {
  "kernelspec": {
   "display_name": "Python 3",
   "language": "python",
   "name": "python3"
  },
  "language_info": {
   "codemirror_mode": {
    "name": "ipython",
    "version": 3
   },
   "file_extension": ".py",
   "mimetype": "text/x-python",
   "name": "python",
   "nbconvert_exporter": "python",
   "pygments_lexer": "ipython3",
   "version": "3.5.2"
  }
 },
 "nbformat": 4,
 "nbformat_minor": 2
}
